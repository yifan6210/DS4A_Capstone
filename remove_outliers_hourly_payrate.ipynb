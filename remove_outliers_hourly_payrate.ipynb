{
 "cells": [
  {
   "cell_type": "code",
   "execution_count": 160,
   "id": "indirect-image",
   "metadata": {},
   "outputs": [],
   "source": [
    "# import necessary libraries \n",
    "import pandas as pd\n",
    "import numpy as np\n",
    "import os"
   ]
  },
  {
   "cell_type": "code",
   "execution_count": 161,
   "id": "focal-calvin",
   "metadata": {},
   "outputs": [],
   "source": [
    "#owd = os.getcwd()\n",
    "#os.chdir(\"Data/employment_data\")\n",
    "# load employment datasets\n",
    "df1 = pd.read_csv(\"hourly_payrate.csv\", dtype = \"int64\")\n",
    "df2 = pd.read_csv(\"hours_per_week.csv\", dtype = \"int64\")\n",
    "#df = pd.merge(hourly_payrate, hours_per_week, on = ['ID', ])"
   ]
  },
  {
   "cell_type": "code",
   "execution_count": 162,
   "id": "animated-incentive",
   "metadata": {},
   "outputs": [
    {
     "data": {
      "text/html": [
       "<div>\n",
       "<style scoped>\n",
       "    .dataframe tbody tr th:only-of-type {\n",
       "        vertical-align: middle;\n",
       "    }\n",
       "\n",
       "    .dataframe tbody tr th {\n",
       "        vertical-align: top;\n",
       "    }\n",
       "\n",
       "    .dataframe thead th {\n",
       "        text-align: right;\n",
       "    }\n",
       "</style>\n",
       "<table border=\"1\" class=\"dataframe\">\n",
       "  <thead>\n",
       "    <tr style=\"text-align: right;\">\n",
       "      <th></th>\n",
       "      <th>ID</th>\n",
       "      <th>year</th>\n",
       "      <th>job_id</th>\n",
       "      <th>hourly_payrate</th>\n",
       "    </tr>\n",
       "  </thead>\n",
       "  <tbody>\n",
       "    <tr>\n",
       "      <th>0</th>\n",
       "      <td>1</td>\n",
       "      <td>1979</td>\n",
       "      <td>2</td>\n",
       "      <td>328</td>\n",
       "    </tr>\n",
       "    <tr>\n",
       "      <th>1</th>\n",
       "      <td>1</td>\n",
       "      <td>1981</td>\n",
       "      <td>2</td>\n",
       "      <td>361</td>\n",
       "    </tr>\n",
       "    <tr>\n",
       "      <th>2</th>\n",
       "      <td>2</td>\n",
       "      <td>1979</td>\n",
       "      <td>1</td>\n",
       "      <td>385</td>\n",
       "    </tr>\n",
       "    <tr>\n",
       "      <th>3</th>\n",
       "      <td>2</td>\n",
       "      <td>1980</td>\n",
       "      <td>1</td>\n",
       "      <td>457</td>\n",
       "    </tr>\n",
       "    <tr>\n",
       "      <th>4</th>\n",
       "      <td>2</td>\n",
       "      <td>1981</td>\n",
       "      <td>1</td>\n",
       "      <td>514</td>\n",
       "    </tr>\n",
       "  </tbody>\n",
       "</table>\n",
       "</div>"
      ],
      "text/plain": [
       "   ID  year  job_id  hourly_payrate\n",
       "0   1  1979       2             328\n",
       "1   1  1981       2             361\n",
       "2   2  1979       1             385\n",
       "3   2  1980       1             457\n",
       "4   2  1981       1             514"
      ]
     },
     "execution_count": 162,
     "metadata": {},
     "output_type": "execute_result"
    }
   ],
   "source": [
    "df1.head()"
   ]
  },
  {
   "cell_type": "code",
   "execution_count": 163,
   "id": "thermal-static",
   "metadata": {},
   "outputs": [
    {
     "data": {
      "text/html": [
       "<div>\n",
       "<style scoped>\n",
       "    .dataframe tbody tr th:only-of-type {\n",
       "        vertical-align: middle;\n",
       "    }\n",
       "\n",
       "    .dataframe tbody tr th {\n",
       "        vertical-align: top;\n",
       "    }\n",
       "\n",
       "    .dataframe thead th {\n",
       "        text-align: right;\n",
       "    }\n",
       "</style>\n",
       "<table border=\"1\" class=\"dataframe\">\n",
       "  <thead>\n",
       "    <tr style=\"text-align: right;\">\n",
       "      <th></th>\n",
       "      <th>ID</th>\n",
       "      <th>year</th>\n",
       "      <th>job_id</th>\n",
       "      <th>hours_per_week</th>\n",
       "    </tr>\n",
       "  </thead>\n",
       "  <tbody>\n",
       "    <tr>\n",
       "      <th>0</th>\n",
       "      <td>1</td>\n",
       "      <td>1979</td>\n",
       "      <td>1</td>\n",
       "      <td>15</td>\n",
       "    </tr>\n",
       "    <tr>\n",
       "      <th>1</th>\n",
       "      <td>1</td>\n",
       "      <td>1979</td>\n",
       "      <td>2</td>\n",
       "      <td>38</td>\n",
       "    </tr>\n",
       "    <tr>\n",
       "      <th>2</th>\n",
       "      <td>1</td>\n",
       "      <td>1981</td>\n",
       "      <td>2</td>\n",
       "      <td>38</td>\n",
       "    </tr>\n",
       "    <tr>\n",
       "      <th>3</th>\n",
       "      <td>2</td>\n",
       "      <td>1979</td>\n",
       "      <td>1</td>\n",
       "      <td>35</td>\n",
       "    </tr>\n",
       "    <tr>\n",
       "      <th>4</th>\n",
       "      <td>2</td>\n",
       "      <td>1980</td>\n",
       "      <td>1</td>\n",
       "      <td>35</td>\n",
       "    </tr>\n",
       "  </tbody>\n",
       "</table>\n",
       "</div>"
      ],
      "text/plain": [
       "   ID  year  job_id  hours_per_week\n",
       "0   1  1979       1              15\n",
       "1   1  1979       2              38\n",
       "2   1  1981       2              38\n",
       "3   2  1979       1              35\n",
       "4   2  1980       1              35"
      ]
     },
     "execution_count": 163,
     "metadata": {},
     "output_type": "execute_result"
    }
   ],
   "source": [
    "df2.head()"
   ]
  },
  {
   "cell_type": "markdown",
   "id": "brave-modification",
   "metadata": {},
   "source": [
    "# 1. Explore trends of hourly wage and working hours per week\n",
    "In this seciton, we explore the averages of hourly wage and working hours per week for each year. We expect that the average hourly wage should increase with year, wheares working hours per week should remain almost unchanged."
   ]
  },
  {
   "cell_type": "code",
   "execution_count": 164,
   "id": "unsigned-resort",
   "metadata": {},
   "outputs": [],
   "source": [
    "# get available years and create a dataframe for aggreagate analysis\n",
    "years = df2['year'].unique()\n",
    "years.sort()\n",
    "df = pd.DataFrame(years, columns = ['year'])"
   ]
  },
  {
   "cell_type": "code",
   "execution_count": 165,
   "id": "raised-throw",
   "metadata": {},
   "outputs": [],
   "source": [
    "avg_payrate = []\n",
    "avg_hours = []\n",
    "for (i, year) in zip(df_avg.index, years):\n",
    "    avg_payrate.append(df1[df1.year==year]['hourly_payrate'].mean())\n",
    "    avg_hours.append(df2[df2.year==year]['hours_per_week'].mean())\n",
    "df['avg_payrate'] = avg_hourly_payrate\n",
    "df['avg_hours'] = avg_hours_week"
   ]
  },
  {
   "cell_type": "code",
   "execution_count": 166,
   "id": "sound-philosophy",
   "metadata": {},
   "outputs": [
    {
     "data": {
      "text/html": [
       "<div>\n",
       "<style scoped>\n",
       "    .dataframe tbody tr th:only-of-type {\n",
       "        vertical-align: middle;\n",
       "    }\n",
       "\n",
       "    .dataframe tbody tr th {\n",
       "        vertical-align: top;\n",
       "    }\n",
       "\n",
       "    .dataframe thead th {\n",
       "        text-align: right;\n",
       "    }\n",
       "</style>\n",
       "<table border=\"1\" class=\"dataframe\">\n",
       "  <thead>\n",
       "    <tr style=\"text-align: right;\">\n",
       "      <th></th>\n",
       "      <th>year</th>\n",
       "      <th>avg_payrate</th>\n",
       "      <th>avg_hours</th>\n",
       "    </tr>\n",
       "  </thead>\n",
       "  <tbody>\n",
       "    <tr>\n",
       "      <th>0</th>\n",
       "      <td>1979</td>\n",
       "      <td>908.130495</td>\n",
       "      <td>30.348307</td>\n",
       "    </tr>\n",
       "    <tr>\n",
       "      <th>1</th>\n",
       "      <td>1980</td>\n",
       "      <td>383.700871</td>\n",
       "      <td>30.245403</td>\n",
       "    </tr>\n",
       "    <tr>\n",
       "      <th>2</th>\n",
       "      <td>1981</td>\n",
       "      <td>436.086931</td>\n",
       "      <td>31.356409</td>\n",
       "    </tr>\n",
       "    <tr>\n",
       "      <th>3</th>\n",
       "      <td>1982</td>\n",
       "      <td>477.117022</td>\n",
       "      <td>33.104493</td>\n",
       "    </tr>\n",
       "    <tr>\n",
       "      <th>4</th>\n",
       "      <td>1983</td>\n",
       "      <td>512.127017</td>\n",
       "      <td>33.840707</td>\n",
       "    </tr>\n",
       "  </tbody>\n",
       "</table>\n",
       "</div>"
      ],
      "text/plain": [
       "   year  avg_payrate  avg_hours\n",
       "0  1979   908.130495  30.348307\n",
       "1  1980   383.700871  30.245403\n",
       "2  1981   436.086931  31.356409\n",
       "3  1982   477.117022  33.104493\n",
       "4  1983   512.127017  33.840707"
      ]
     },
     "execution_count": 166,
     "metadata": {},
     "output_type": "execute_result"
    }
   ],
   "source": [
    "df.head()"
   ]
  },
  {
   "cell_type": "code",
   "execution_count": 167,
   "id": "liquid-separate",
   "metadata": {},
   "outputs": [
    {
     "data": {
      "text/plain": [
       "Text(0, 0.5, 'average working hours per week ')"
      ]
     },
     "execution_count": 167,
     "metadata": {},
     "output_type": "execute_result"
    },
    {
     "data": {
      "image/png": "[encoded data removed]",
      "text/plain": [
       "<Figure size 1080x360 with 2 Axes>"
      ]
     },
     "metadata": {
      "needs_background": "light"
     },
     "output_type": "display_data"
    }
   ],
   "source": [
    "import matplotlib.pyplot as plt\n",
    "fig = plt.figure(figsize = (15, 5))\n",
    "ax1 = fig.add_subplot(1,2,1)\n",
    "plt.plot(df['year'], df['avg_payrate'], '--*')\n",
    "plt.xlabel('year')\n",
    "plt.ylabel('average hourly wages [cents]')\n",
    "ax2 = fig.add_subplot(1,2,2)\n",
    "plt.plot(df['year'], df['avg_hours'], '--*')\n",
    "plt.xlabel('year')\n",
    "plt.ylabel('average working hours per week ')"
   ]
  },
  {
   "cell_type": "markdown",
   "id": "canadian-enough",
   "metadata": {},
   "source": [
    "The figure above shows that at the average working hours per week first increase and become stable. However, the hourly wages behave strangly for year 1987 - 1993 and 1979. I need to work into the distribution of these years."
   ]
  },
  {
   "cell_type": "markdown",
   "id": "sought-track",
   "metadata": {},
   "source": [
    "# 2. Distribution of hourly wages for year 1987-1993 and 1979\n",
    "In the previous section, we have seen that avereage hourly wage behaves strangly for year 1987-1993 and year 1979. Specifically, it does not follow the overall trend and is much higher than expected. Therefore, I examine the distribution of hourly wages to see what's happening for these years."
   ]
  },
  {
   "cell_type": "markdown",
   "id": "muslim-injection",
   "metadata": {},
   "source": [
    "The figure shows that the average hourly wage is overestimated. This suggests that there are some outliers in the hourly wages and the outliers make the average wages unreasonably high. Therefore, I first compute the maximum hourly wage for each year."
   ]
  },
  {
   "cell_type": "code",
   "execution_count": 189,
   "id": "owned-mixer",
   "metadata": {},
   "outputs": [
    {
     "name": "stdout",
     "output_type": "stream",
     "text": [
      "1979 3333433\n",
      "1980 7615\n",
      "1981 33500\n",
      "1982 7500\n",
      "1983 23250\n",
      "1984 34500\n",
      "1985 9000\n",
      "1986 25000\n",
      "1987 2550000\n",
      "1988 2600000\n",
      "1989 4000000\n",
      "1990 2100000\n",
      "1991 2400000\n",
      "1992 3340000\n",
      "1993 6000000\n",
      "1994 35000\n",
      "1996 57692\n",
      "1998 64903\n",
      "2000 100000\n",
      "2002 300000\n",
      "2004 96153\n",
      "2006 177884\n",
      "2008 115384\n",
      "2010 169573\n",
      "2012 96153\n",
      "2014 192307\n",
      "2016 480769\n",
      "2018 76923\n"
     ]
    }
   ],
   "source": [
    "for year in years:\n",
    "    maxval = df1[df1.year==year].hourly_payrate.max()\n",
    "    print(year, maxval)"
   ]
  },
  {
   "cell_type": "markdown",
   "id": "controlled-spokesman",
   "metadata": {},
   "source": [
    "Now we have validated our hypothesis that outliers leads to the unreasonable high average hourly wage for year 1987-1993. For the following analysis, I will remove the outliers. To remove the outliers, I remove the hourly wage data that's higher than 99% of all the hourly wages for each year. "
   ]
  },
  {
   "cell_type": "code",
   "execution_count": 169,
   "id": "handy-paper",
   "metadata": {},
   "outputs": [],
   "source": [
    "# plot distribution of hourly wages for year 1985 - 1995.\n",
    "avg_payrate_revised = avg_payrate.copy()\n",
    "for (i, year) in zip(range(len(years)), years):\n",
    "    if (year>1986 and year<1994) or year==1979:\n",
    "        q_hi  = df1['hourly_payrate'].quantile(0.99)\n",
    "        avg_payrate_revised[i]=df1[(df1.year==year) & (df1.hourly_payrate<q_hi)].hourly_payrate.mean()\n",
    "df['avg_payrate_revised'] = avg_payrate_revised"
   ]
  },
  {
   "cell_type": "markdown",
   "id": "hired-shelter",
   "metadata": {},
   "source": [
    "We plot the original average hourly wage and the average hourly wage after removing outliers. The following figure shows that the average hourly wage follows a very nice increasing trend after removing outliers. Moreover, the average hourly wage remains unchanged for 1980-1986 and 1994-2015."
   ]
  },
  {
   "cell_type": "code",
   "execution_count": 170,
   "id": "occupied-plain",
   "metadata": {},
   "outputs": [
    {
     "data": {
      "text/plain": [
       "Text(0, 0.5, 'average hourly payrate [cents]')"
      ]
     },
     "execution_count": 170,
     "metadata": {},
     "output_type": "execute_result"
    },
    {
     "data": {
      "image/png": "[encoded data removed]",
      "text/plain": [
       "<Figure size 432x288 with 1 Axes>"
      ]
     },
     "metadata": {
      "needs_background": "light"
     },
     "output_type": "display_data"
    }
   ],
   "source": [
    "plt.plot(df['year'], df['avg_payrate_revised'], 'r--*', label = 'revised')\n",
    "plt.plot(df['year'], df['avg_payrate'], 'b--*', label = 'original')\n",
    "plt.legend()\n",
    "plt.xlabel('year')\n",
    "plt.ylabel('average hourly payrate [cents]')"
   ]
  },
  {
   "cell_type": "markdown",
   "id": "hungarian-present",
   "metadata": {},
   "source": [
    "# 3. Save the revised hourly wage data"
   ]
  },
  {
   "cell_type": "code",
   "execution_count": 180,
   "id": "labeled-brighton",
   "metadata": {},
   "outputs": [
    {
     "name": "stdout",
     "output_type": "stream",
     "text": [
      "Int64Index([   303,    981,   1669,   1807,   1955,   3320,   4484,   5291,\n",
      "              7403,   7439,\n",
      "            ...\n",
      "            284029, 284133, 284403, 284941, 285131, 285326, 285458, 285941,\n",
      "            286797, 286980],\n",
      "           dtype='int64', length=415)\n",
      "(287813, 4)\n"
     ]
    }
   ],
   "source": [
    "drop_index = None\n",
    "for (i, year) in zip(range(len(years)), years):\n",
    "    if (year>1986 and year<1994) or year==1979:\n",
    "        q_hi  = df1['hourly_payrate'].quantile(0.99)\n",
    "        if year!=1979:\n",
    "            drop_index = df1[(df1.year==year) & (df1.hourly_payrate>=q_hi)].index.union(drop_index)\n",
    "        else:\n",
    "            drop_index = df1[(df1.year==year) & (df1.hourly_payrate>=q_hi)].index\n",
    "print(drop_index)  \n",
    "print(df1.shape)"
   ]
  },
  {
   "cell_type": "code",
   "execution_count": 182,
   "id": "chemical-investor",
   "metadata": {},
   "outputs": [
    {
     "name": "stdout",
     "output_type": "stream",
     "text": [
      "(287398, 4)\n"
     ]
    }
   ],
   "source": [
    "df_revised = df1.drop(drop_index)\n",
    "print(df2.shape)"
   ]
  },
  {
   "cell_type": "code",
   "execution_count": 183,
   "id": "modern-economics",
   "metadata": {},
   "outputs": [],
   "source": [
    "avg_payrate_new = []\n",
    "for (i, year) in zip(df_avg.index, years):\n",
    "    avg_payrate_new.append(df_revised[df_revised.year==year]['hourly_payrate'].mean())\n",
    "df['avg_payrate_new'] = avg_payrate_new"
   ]
  },
  {
   "cell_type": "code",
   "execution_count": 186,
   "id": "smaller-diagram",
   "metadata": {},
   "outputs": [
    {
     "data": {
      "text/plain": [
       "Text(0, 0.5, 'average hourly payrate [cents]')"
      ]
     },
     "execution_count": 186,
     "metadata": {},
     "output_type": "execute_result"
    },
    {
     "data": {
      "image/png": "[encoded data removed]",
      "text/plain": [
       "<Figure size 432x288 with 1 Axes>"
      ]
     },
     "metadata": {
      "needs_background": "light"
     },
     "output_type": "display_data"
    }
   ],
   "source": [
    "plt.plot(df['year'], df['avg_payrate_revised'], 'r--*', label = 'revised')\n",
    "plt.plot(df['year'], df['avg_payrate'], 'b--*', label = 'original')\n",
    "plt.plot(df['year'], df['avg_payrate_new'], 'g--*', label = 'new')\n",
    "plt.legend()\n",
    "plt.xlabel('year')\n",
    "plt.ylabel('average hourly payrate [cents]')"
   ]
  },
  {
   "cell_type": "code",
   "execution_count": 187,
   "id": "adaptive-bottom",
   "metadata": {},
   "outputs": [],
   "source": [
    "df_revised.to_csv('hourly_payrate_revised.csv', index = False)"
   ]
  }
 ],
 "metadata": {
  "kernelspec": {
   "display_name": "Python 3",
   "language": "python",
   "name": "python3"
  },
  "language_info": {
   "codemirror_mode": {
    "name": "ipython",
    "version": 3
   },
   "file_extension": ".py",
   "mimetype": "text/x-python",
   "name": "python",
   "nbconvert_exporter": "python",
   "pygments_lexer": "ipython3",
   "version": "3.8.3"
  }
 },
 "nbformat": 4,
 "nbformat_minor": 5
}
